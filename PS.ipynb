{
 "cells": [
  {
   "cell_type": "code",
   "execution_count": 7,
   "metadata": {},
   "outputs": [
    {
     "name": "stdout",
     "output_type": "stream",
     "text": [
      "1000000000 9\n",
      "1\n"
     ]
    }
   ],
   "source": [
    "#977A\n",
    "#https://codeforces.com/contest/977/submission/90685323\n",
    "values = input('').split()\n",
    "n,k = [int(i) for i in values]\n",
    "r=0\n",
    "for i in range(k):\n",
    "    if n%10==0:\n",
    "         n =n //10\n",
    "    else:\n",
    "        n=n-1\n",
    "              \n",
    "print(n)        "
   ]
  },
  {
   "cell_type": "code",
   "execution_count": 17,
   "metadata": {},
   "outputs": [
    {
     "name": "stdout",
     "output_type": "stream",
     "text": [
      "aBAcAba\n",
      ".b.c.b\n"
     ]
    }
   ],
   "source": [
    "#118A\n",
    "#https://codeforces.com/problemset/submission/118/90686307\n",
    "word = input('').lower()\n",
    "vowels = ['a','o','y','e','u','i']\n",
    "result=\"\"\n",
    "for i in range(len(word)):\n",
    "    if word[i] in vowels:\n",
    "        continue\n",
    "    else:\n",
    "        result+=\".\"\n",
    "        result+=word[i]\n",
    "print(result)        \n",
    "        "
   ]
  },
  {
   "cell_type": "code",
   "execution_count": 5,
   "metadata": {},
   "outputs": [
    {
     "name": "stdout",
     "output_type": "stream",
     "text": [
      "6\n",
      "1 4 3 3 5 7\n",
      "3 7 5 4 3\n",
      "4 3 7 5\n",
      "1\n",
      "-3\n"
     ]
    }
   ],
   "source": [
    "#519B\n",
    "#https://codeforces.com/contest/519/submission/90719923\n",
    "n =int(input(''))\n",
    "ne = input('').split()\n",
    "ne1 = input('').split()\n",
    "ne2 = input('').split()\n",
    "sum1=0\n",
    "sum2=0\n",
    "sum3=0\n",
    "for i in ne :\n",
    "     sum1+=int(i) \n",
    "for i in ne1 :\n",
    "     sum2+=int(i)         \n",
    "for i in ne2 :\n",
    "     sum3+=int(i)\n",
    "print(sum1-sum2) \n",
    "print(sum2-sum3)"
   ]
  },
  {
   "cell_type": "code",
   "execution_count": 148,
   "metadata": {},
   "outputs": [
    {
     "name": "stdout",
     "output_type": "stream",
     "text": [
      "5 1\n",
      "GGBBG\n",
      "GGBGB\n"
     ]
    }
   ],
   "source": [
    "#https://codeforces.com/problemset/submission/266/90723347\n",
    "#266B\n",
    "values = input('').split()\n",
    "n , t = [int(i) for i in values]\n",
    "s = input('')\n",
    "s=[str(i) for i in s]\n",
    "for i in range (t):\n",
    "    x=0\n",
    "    while(x<n-1):\n",
    "        if(s[x]=='B' and s[x+1]=='G'):\n",
    "            s[x]='G'\n",
    "            s[x+1]='B'\n",
    "            x+=2\n",
    "        else:\n",
    "            x+=1\n",
    "ns=\"\"\n",
    "for i in s:\n",
    "    ns+=i\n",
    "print(ns)    "
   ]
  },
  {
   "cell_type": "code",
   "execution_count": null,
   "metadata": {
    "scrolled": true
   },
   "outputs": [],
   "source": []
  },
  {
   "cell_type": "code",
   "execution_count": null,
   "metadata": {},
   "outputs": [],
   "source": []
  },
  {
   "cell_type": "code",
   "execution_count": null,
   "metadata": {},
   "outputs": [],
   "source": []
  }
 ],
 "metadata": {
  "kernelspec": {
   "display_name": "Python 3",
   "language": "python",
   "name": "python3"
  },
  "language_info": {
   "codemirror_mode": {
    "name": "ipython",
    "version": 3
   },
   "file_extension": ".py",
   "mimetype": "text/x-python",
   "name": "python",
   "nbconvert_exporter": "python",
   "pygments_lexer": "ipython3",
   "version": "3.7.6"
  }
 },
 "nbformat": 4,
 "nbformat_minor": 4
}
